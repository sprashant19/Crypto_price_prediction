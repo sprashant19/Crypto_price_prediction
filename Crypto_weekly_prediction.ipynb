{
  "nbformat": 4,
  "nbformat_minor": 0,
  "metadata": {
    "colab": {
      "name": "Crypto_weekly_prediction.ipynb",
      "provenance": [],
      "authorship_tag": "ABX9TyMj+EZ6bdCvi9DTkVuot+W/",
      "include_colab_link": true
    },
    "kernelspec": {
      "name": "python3",
      "display_name": "Python 3"
    },
    "language_info": {
      "name": "python"
    }
  },
  "cells": [
    {
      "cell_type": "markdown",
      "metadata": {
        "id": "view-in-github",
        "colab_type": "text"
      },
      "source": [
        "<a href=\"https://colab.research.google.com/github/sprashant19/Crypto_price_prediction/blob/main/Crypto_weekly_prediction.ipynb\" target=\"_parent\"><img src=\"https://colab.research.google.com/assets/colab-badge.svg\" alt=\"Open In Colab\"/></a>"
      ]
    },
    {
      "cell_type": "code",
      "execution_count": 26,
      "metadata": {
        "id": "sMyj_CeEch3S"
      },
      "outputs": [],
      "source": [
        "#Importing the necessary modules or libraries\n",
        "import pandas as pd\n",
        "from sklearn.model_selection import train_test_split\n",
        "from sklearn.linear_model import LinearRegression\n",
        "from sklearn import metrics\n",
        "import matplotlib.pyplot as plt"
      ]
    },
    {
      "cell_type": "code",
      "source": [
        "#Accessing the Data\n",
        "data2=pd.read_csv(\"/content/APE3-USD_weekly.csv\")\n",
        "data2"
      ],
      "metadata": {
        "colab": {
          "base_uri": "https://localhost:8080/",
          "height": 645
        },
        "id": "NdnhYkGBRgOT",
        "outputId": "da9444bc-f37b-4f21-84fe-f1cb86f7e979"
      },
      "execution_count": 27,
      "outputs": [
        {
          "output_type": "execute_result",
          "data": {
            "text/plain": [
              "          Date       Open       High        Low      Close  Adj Close  \\\n",
              "0   14-03-2022   1.000397  39.398857   1.000394   9.603505   9.603505   \n",
              "1   21-03-2022   9.604387  14.449736   9.593103  14.276739  14.276739   \n",
              "2   28-03-2022  14.272323  15.492145  11.970219  12.446993  12.446993   \n",
              "3   04-04-2022  12.431074  12.777606  10.567146  12.158826  12.158826   \n",
              "4   11-04-2022  12.149710  13.464239  10.692602  11.736778  11.736778   \n",
              "5   18-04-2022  11.737742  18.217287  10.997159  16.818827  16.818827   \n",
              "6   25-04-2022  16.819950  26.913910  15.691833  15.971160  15.971160   \n",
              "7   02-05-2022  15.968777  17.550270  11.104078  11.206094  11.206094   \n",
              "8   09-05-2022  11.208441  11.578635   5.248232   9.092935   9.092935   \n",
              "9   16-05-2022   9.090923   9.209086   7.470881   8.041804   8.041804   \n",
              "10  23-05-2022   8.038250   8.473360   5.837894   6.236197   6.236197   \n",
              "11  30-05-2022   6.236318   7.436798   5.990419   6.098912   6.098912   \n",
              "12  06-06-2022   6.100090   6.432486   3.910886   3.910886   3.910886   \n",
              "13  13-06-2022   3.907361   4.480147   3.086123   4.146917   4.146917   \n",
              "14  20-06-2022   4.142591   5.259030   3.870129   4.702744   4.702744   \n",
              "15  27-06-2022   4.702877   5.532866   4.229153   4.565363   4.565363   \n",
              "16  04-07-2022   4.565889   5.276921   4.419391   4.789759   4.789759   \n",
              "17  11-07-2022   4.789317   4.871497   4.201759   4.763715   4.763715   \n",
              "18  17-07-2022   4.772029   5.123670   4.652607   5.049982   5.049982   \n",
              "\n",
              "         Volume  Previous_week_open  Previous_week_high  Previous_week_low  \n",
              "0   16186503758                 NaN                 NaN                NaN  \n",
              "1   12758635072            1.000397           39.398857           1.000394  \n",
              "2    5848668755            9.604387           14.449736           9.593103  \n",
              "3    3336763285           14.272323           15.492145          11.970219  \n",
              "4    3637827828           12.431074           12.777606          10.567146  \n",
              "5   10101212726           12.149710           13.464239          10.692602  \n",
              "6   24423460930           11.737742           18.217287          10.997159  \n",
              "7   10555124667           16.819950           26.913910          15.691833  \n",
              "8   10638591966           15.968777           17.550270          11.104078  \n",
              "9    4054734881           11.208441           11.578635           5.248232  \n",
              "10   3091017076            9.090923            9.209086           7.470881  \n",
              "11   2487564307            8.038250            8.473360           5.837894  \n",
              "12   1744241380            6.236318            7.436798           5.990419  \n",
              "13   2891472619            6.100090            6.432486           3.910886  \n",
              "14   2662553857            3.907361            4.480147           3.086123  \n",
              "15   2045373114            4.142591            5.259030           3.870129  \n",
              "16   1676094033            4.702877            5.532866           4.229153  \n",
              "17   1863566156            4.565889            5.276921           4.419391  \n",
              "18    437088224            4.789317            4.871497           4.201759  "
            ],
            "text/html": [
              "\n",
              "  <div id=\"df-88f0a993-1b13-4b0e-84f9-6a2c3b763cc2\">\n",
              "    <div class=\"colab-df-container\">\n",
              "      <div>\n",
              "<style scoped>\n",
              "    .dataframe tbody tr th:only-of-type {\n",
              "        vertical-align: middle;\n",
              "    }\n",
              "\n",
              "    .dataframe tbody tr th {\n",
              "        vertical-align: top;\n",
              "    }\n",
              "\n",
              "    .dataframe thead th {\n",
              "        text-align: right;\n",
              "    }\n",
              "</style>\n",
              "<table border=\"1\" class=\"dataframe\">\n",
              "  <thead>\n",
              "    <tr style=\"text-align: right;\">\n",
              "      <th></th>\n",
              "      <th>Date</th>\n",
              "      <th>Open</th>\n",
              "      <th>High</th>\n",
              "      <th>Low</th>\n",
              "      <th>Close</th>\n",
              "      <th>Adj Close</th>\n",
              "      <th>Volume</th>\n",
              "      <th>Previous_week_open</th>\n",
              "      <th>Previous_week_high</th>\n",
              "      <th>Previous_week_low</th>\n",
              "    </tr>\n",
              "  </thead>\n",
              "  <tbody>\n",
              "    <tr>\n",
              "      <th>0</th>\n",
              "      <td>14-03-2022</td>\n",
              "      <td>1.000397</td>\n",
              "      <td>39.398857</td>\n",
              "      <td>1.000394</td>\n",
              "      <td>9.603505</td>\n",
              "      <td>9.603505</td>\n",
              "      <td>16186503758</td>\n",
              "      <td>NaN</td>\n",
              "      <td>NaN</td>\n",
              "      <td>NaN</td>\n",
              "    </tr>\n",
              "    <tr>\n",
              "      <th>1</th>\n",
              "      <td>21-03-2022</td>\n",
              "      <td>9.604387</td>\n",
              "      <td>14.449736</td>\n",
              "      <td>9.593103</td>\n",
              "      <td>14.276739</td>\n",
              "      <td>14.276739</td>\n",
              "      <td>12758635072</td>\n",
              "      <td>1.000397</td>\n",
              "      <td>39.398857</td>\n",
              "      <td>1.000394</td>\n",
              "    </tr>\n",
              "    <tr>\n",
              "      <th>2</th>\n",
              "      <td>28-03-2022</td>\n",
              "      <td>14.272323</td>\n",
              "      <td>15.492145</td>\n",
              "      <td>11.970219</td>\n",
              "      <td>12.446993</td>\n",
              "      <td>12.446993</td>\n",
              "      <td>5848668755</td>\n",
              "      <td>9.604387</td>\n",
              "      <td>14.449736</td>\n",
              "      <td>9.593103</td>\n",
              "    </tr>\n",
              "    <tr>\n",
              "      <th>3</th>\n",
              "      <td>04-04-2022</td>\n",
              "      <td>12.431074</td>\n",
              "      <td>12.777606</td>\n",
              "      <td>10.567146</td>\n",
              "      <td>12.158826</td>\n",
              "      <td>12.158826</td>\n",
              "      <td>3336763285</td>\n",
              "      <td>14.272323</td>\n",
              "      <td>15.492145</td>\n",
              "      <td>11.970219</td>\n",
              "    </tr>\n",
              "    <tr>\n",
              "      <th>4</th>\n",
              "      <td>11-04-2022</td>\n",
              "      <td>12.149710</td>\n",
              "      <td>13.464239</td>\n",
              "      <td>10.692602</td>\n",
              "      <td>11.736778</td>\n",
              "      <td>11.736778</td>\n",
              "      <td>3637827828</td>\n",
              "      <td>12.431074</td>\n",
              "      <td>12.777606</td>\n",
              "      <td>10.567146</td>\n",
              "    </tr>\n",
              "    <tr>\n",
              "      <th>5</th>\n",
              "      <td>18-04-2022</td>\n",
              "      <td>11.737742</td>\n",
              "      <td>18.217287</td>\n",
              "      <td>10.997159</td>\n",
              "      <td>16.818827</td>\n",
              "      <td>16.818827</td>\n",
              "      <td>10101212726</td>\n",
              "      <td>12.149710</td>\n",
              "      <td>13.464239</td>\n",
              "      <td>10.692602</td>\n",
              "    </tr>\n",
              "    <tr>\n",
              "      <th>6</th>\n",
              "      <td>25-04-2022</td>\n",
              "      <td>16.819950</td>\n",
              "      <td>26.913910</td>\n",
              "      <td>15.691833</td>\n",
              "      <td>15.971160</td>\n",
              "      <td>15.971160</td>\n",
              "      <td>24423460930</td>\n",
              "      <td>11.737742</td>\n",
              "      <td>18.217287</td>\n",
              "      <td>10.997159</td>\n",
              "    </tr>\n",
              "    <tr>\n",
              "      <th>7</th>\n",
              "      <td>02-05-2022</td>\n",
              "      <td>15.968777</td>\n",
              "      <td>17.550270</td>\n",
              "      <td>11.104078</td>\n",
              "      <td>11.206094</td>\n",
              "      <td>11.206094</td>\n",
              "      <td>10555124667</td>\n",
              "      <td>16.819950</td>\n",
              "      <td>26.913910</td>\n",
              "      <td>15.691833</td>\n",
              "    </tr>\n",
              "    <tr>\n",
              "      <th>8</th>\n",
              "      <td>09-05-2022</td>\n",
              "      <td>11.208441</td>\n",
              "      <td>11.578635</td>\n",
              "      <td>5.248232</td>\n",
              "      <td>9.092935</td>\n",
              "      <td>9.092935</td>\n",
              "      <td>10638591966</td>\n",
              "      <td>15.968777</td>\n",
              "      <td>17.550270</td>\n",
              "      <td>11.104078</td>\n",
              "    </tr>\n",
              "    <tr>\n",
              "      <th>9</th>\n",
              "      <td>16-05-2022</td>\n",
              "      <td>9.090923</td>\n",
              "      <td>9.209086</td>\n",
              "      <td>7.470881</td>\n",
              "      <td>8.041804</td>\n",
              "      <td>8.041804</td>\n",
              "      <td>4054734881</td>\n",
              "      <td>11.208441</td>\n",
              "      <td>11.578635</td>\n",
              "      <td>5.248232</td>\n",
              "    </tr>\n",
              "    <tr>\n",
              "      <th>10</th>\n",
              "      <td>23-05-2022</td>\n",
              "      <td>8.038250</td>\n",
              "      <td>8.473360</td>\n",
              "      <td>5.837894</td>\n",
              "      <td>6.236197</td>\n",
              "      <td>6.236197</td>\n",
              "      <td>3091017076</td>\n",
              "      <td>9.090923</td>\n",
              "      <td>9.209086</td>\n",
              "      <td>7.470881</td>\n",
              "    </tr>\n",
              "    <tr>\n",
              "      <th>11</th>\n",
              "      <td>30-05-2022</td>\n",
              "      <td>6.236318</td>\n",
              "      <td>7.436798</td>\n",
              "      <td>5.990419</td>\n",
              "      <td>6.098912</td>\n",
              "      <td>6.098912</td>\n",
              "      <td>2487564307</td>\n",
              "      <td>8.038250</td>\n",
              "      <td>8.473360</td>\n",
              "      <td>5.837894</td>\n",
              "    </tr>\n",
              "    <tr>\n",
              "      <th>12</th>\n",
              "      <td>06-06-2022</td>\n",
              "      <td>6.100090</td>\n",
              "      <td>6.432486</td>\n",
              "      <td>3.910886</td>\n",
              "      <td>3.910886</td>\n",
              "      <td>3.910886</td>\n",
              "      <td>1744241380</td>\n",
              "      <td>6.236318</td>\n",
              "      <td>7.436798</td>\n",
              "      <td>5.990419</td>\n",
              "    </tr>\n",
              "    <tr>\n",
              "      <th>13</th>\n",
              "      <td>13-06-2022</td>\n",
              "      <td>3.907361</td>\n",
              "      <td>4.480147</td>\n",
              "      <td>3.086123</td>\n",
              "      <td>4.146917</td>\n",
              "      <td>4.146917</td>\n",
              "      <td>2891472619</td>\n",
              "      <td>6.100090</td>\n",
              "      <td>6.432486</td>\n",
              "      <td>3.910886</td>\n",
              "    </tr>\n",
              "    <tr>\n",
              "      <th>14</th>\n",
              "      <td>20-06-2022</td>\n",
              "      <td>4.142591</td>\n",
              "      <td>5.259030</td>\n",
              "      <td>3.870129</td>\n",
              "      <td>4.702744</td>\n",
              "      <td>4.702744</td>\n",
              "      <td>2662553857</td>\n",
              "      <td>3.907361</td>\n",
              "      <td>4.480147</td>\n",
              "      <td>3.086123</td>\n",
              "    </tr>\n",
              "    <tr>\n",
              "      <th>15</th>\n",
              "      <td>27-06-2022</td>\n",
              "      <td>4.702877</td>\n",
              "      <td>5.532866</td>\n",
              "      <td>4.229153</td>\n",
              "      <td>4.565363</td>\n",
              "      <td>4.565363</td>\n",
              "      <td>2045373114</td>\n",
              "      <td>4.142591</td>\n",
              "      <td>5.259030</td>\n",
              "      <td>3.870129</td>\n",
              "    </tr>\n",
              "    <tr>\n",
              "      <th>16</th>\n",
              "      <td>04-07-2022</td>\n",
              "      <td>4.565889</td>\n",
              "      <td>5.276921</td>\n",
              "      <td>4.419391</td>\n",
              "      <td>4.789759</td>\n",
              "      <td>4.789759</td>\n",
              "      <td>1676094033</td>\n",
              "      <td>4.702877</td>\n",
              "      <td>5.532866</td>\n",
              "      <td>4.229153</td>\n",
              "    </tr>\n",
              "    <tr>\n",
              "      <th>17</th>\n",
              "      <td>11-07-2022</td>\n",
              "      <td>4.789317</td>\n",
              "      <td>4.871497</td>\n",
              "      <td>4.201759</td>\n",
              "      <td>4.763715</td>\n",
              "      <td>4.763715</td>\n",
              "      <td>1863566156</td>\n",
              "      <td>4.565889</td>\n",
              "      <td>5.276921</td>\n",
              "      <td>4.419391</td>\n",
              "    </tr>\n",
              "    <tr>\n",
              "      <th>18</th>\n",
              "      <td>17-07-2022</td>\n",
              "      <td>4.772029</td>\n",
              "      <td>5.123670</td>\n",
              "      <td>4.652607</td>\n",
              "      <td>5.049982</td>\n",
              "      <td>5.049982</td>\n",
              "      <td>437088224</td>\n",
              "      <td>4.789317</td>\n",
              "      <td>4.871497</td>\n",
              "      <td>4.201759</td>\n",
              "    </tr>\n",
              "  </tbody>\n",
              "</table>\n",
              "</div>\n",
              "      <button class=\"colab-df-convert\" onclick=\"convertToInteractive('df-88f0a993-1b13-4b0e-84f9-6a2c3b763cc2')\"\n",
              "              title=\"Convert this dataframe to an interactive table.\"\n",
              "              style=\"display:none;\">\n",
              "        \n",
              "  <svg xmlns=\"http://www.w3.org/2000/svg\" height=\"24px\"viewBox=\"0 0 24 24\"\n",
              "       width=\"24px\">\n",
              "    <path d=\"M0 0h24v24H0V0z\" fill=\"none\"/>\n",
              "    <path d=\"M18.56 5.44l.94 2.06.94-2.06 2.06-.94-2.06-.94-.94-2.06-.94 2.06-2.06.94zm-11 1L8.5 8.5l.94-2.06 2.06-.94-2.06-.94L8.5 2.5l-.94 2.06-2.06.94zm10 10l.94 2.06.94-2.06 2.06-.94-2.06-.94-.94-2.06-.94 2.06-2.06.94z\"/><path d=\"M17.41 7.96l-1.37-1.37c-.4-.4-.92-.59-1.43-.59-.52 0-1.04.2-1.43.59L10.3 9.45l-7.72 7.72c-.78.78-.78 2.05 0 2.83L4 21.41c.39.39.9.59 1.41.59.51 0 1.02-.2 1.41-.59l7.78-7.78 2.81-2.81c.8-.78.8-2.07 0-2.86zM5.41 20L4 18.59l7.72-7.72 1.47 1.35L5.41 20z\"/>\n",
              "  </svg>\n",
              "      </button>\n",
              "      \n",
              "  <style>\n",
              "    .colab-df-container {\n",
              "      display:flex;\n",
              "      flex-wrap:wrap;\n",
              "      gap: 12px;\n",
              "    }\n",
              "\n",
              "    .colab-df-convert {\n",
              "      background-color: #E8F0FE;\n",
              "      border: none;\n",
              "      border-radius: 50%;\n",
              "      cursor: pointer;\n",
              "      display: none;\n",
              "      fill: #1967D2;\n",
              "      height: 32px;\n",
              "      padding: 0 0 0 0;\n",
              "      width: 32px;\n",
              "    }\n",
              "\n",
              "    .colab-df-convert:hover {\n",
              "      background-color: #E2EBFA;\n",
              "      box-shadow: 0px 1px 2px rgba(60, 64, 67, 0.3), 0px 1px 3px 1px rgba(60, 64, 67, 0.15);\n",
              "      fill: #174EA6;\n",
              "    }\n",
              "\n",
              "    [theme=dark] .colab-df-convert {\n",
              "      background-color: #3B4455;\n",
              "      fill: #D2E3FC;\n",
              "    }\n",
              "\n",
              "    [theme=dark] .colab-df-convert:hover {\n",
              "      background-color: #434B5C;\n",
              "      box-shadow: 0px 1px 3px 1px rgba(0, 0, 0, 0.15);\n",
              "      filter: drop-shadow(0px 1px 2px rgba(0, 0, 0, 0.3));\n",
              "      fill: #FFFFFF;\n",
              "    }\n",
              "  </style>\n",
              "\n",
              "      <script>\n",
              "        const buttonEl =\n",
              "          document.querySelector('#df-88f0a993-1b13-4b0e-84f9-6a2c3b763cc2 button.colab-df-convert');\n",
              "        buttonEl.style.display =\n",
              "          google.colab.kernel.accessAllowed ? 'block' : 'none';\n",
              "\n",
              "        async function convertToInteractive(key) {\n",
              "          const element = document.querySelector('#df-88f0a993-1b13-4b0e-84f9-6a2c3b763cc2');\n",
              "          const dataTable =\n",
              "            await google.colab.kernel.invokeFunction('convertToInteractive',\n",
              "                                                     [key], {});\n",
              "          if (!dataTable) return;\n",
              "\n",
              "          const docLinkHtml = 'Like what you see? Visit the ' +\n",
              "            '<a target=\"_blank\" href=https://colab.research.google.com/notebooks/data_table.ipynb>data table notebook</a>'\n",
              "            + ' to learn more about interactive tables.';\n",
              "          element.innerHTML = '';\n",
              "          dataTable['output_type'] = 'display_data';\n",
              "          await google.colab.output.renderOutput(dataTable, element);\n",
              "          const docLink = document.createElement('div');\n",
              "          docLink.innerHTML = docLinkHtml;\n",
              "          element.appendChild(docLink);\n",
              "        }\n",
              "      </script>\n",
              "    </div>\n",
              "  </div>\n",
              "  "
            ]
          },
          "metadata": {},
          "execution_count": 27
        }
      ]
    },
    {
      "cell_type": "code",
      "source": [
        "#dropping the data of 17-07-2021, since without data of previous week, its not possible to calculate this  previous data.\n",
        "data2=data2.iloc[1:]\n"
      ],
      "metadata": {
        "id": "aaeWFIayD8bQ"
      },
      "execution_count": 28,
      "outputs": []
    },
    {
      "cell_type": "code",
      "source": [
        "#dropping the unnecessary data\n",
        "data2 = data2.drop(columns=['Adj Close','Date','Open','High','Low','Volume'])\n"
      ],
      "metadata": {
        "id": "HRa6jVgNc0Ln"
      },
      "execution_count": 29,
      "outputs": []
    },
    {
      "cell_type": "code",
      "source": [
        "#Findng the correlation between the feature and target\n",
        "data2[['Previous_week_open', 'Previous_week_high',\n",
        "       'Previous_week_low','Close']].corr()"
      ],
      "metadata": {
        "colab": {
          "base_uri": "https://localhost:8080/",
          "height": 175
        },
        "id": "OMXOV3rsSByx",
        "outputId": "56f86cc3-fe03-444a-f70e-0ec62cafec51"
      },
      "execution_count": 30,
      "outputs": [
        {
          "output_type": "execute_result",
          "data": {
            "text/plain": [
              "                    Previous_week_open  Previous_week_high  Previous_week_low  \\\n",
              "Previous_week_open            1.000000            0.247650           0.937407   \n",
              "Previous_week_high            0.247650            1.000000           0.288717   \n",
              "Previous_week_low             0.937407            0.288717           1.000000   \n",
              "Close                         0.502503            0.707872           0.575087   \n",
              "\n",
              "                       Close  \n",
              "Previous_week_open  0.502503  \n",
              "Previous_week_high  0.707872  \n",
              "Previous_week_low   0.575087  \n",
              "Close               1.000000  "
            ],
            "text/html": [
              "\n",
              "  <div id=\"df-c1a7ec86-8980-42fb-8f8f-05f0c5965d44\">\n",
              "    <div class=\"colab-df-container\">\n",
              "      <div>\n",
              "<style scoped>\n",
              "    .dataframe tbody tr th:only-of-type {\n",
              "        vertical-align: middle;\n",
              "    }\n",
              "\n",
              "    .dataframe tbody tr th {\n",
              "        vertical-align: top;\n",
              "    }\n",
              "\n",
              "    .dataframe thead th {\n",
              "        text-align: right;\n",
              "    }\n",
              "</style>\n",
              "<table border=\"1\" class=\"dataframe\">\n",
              "  <thead>\n",
              "    <tr style=\"text-align: right;\">\n",
              "      <th></th>\n",
              "      <th>Previous_week_open</th>\n",
              "      <th>Previous_week_high</th>\n",
              "      <th>Previous_week_low</th>\n",
              "      <th>Close</th>\n",
              "    </tr>\n",
              "  </thead>\n",
              "  <tbody>\n",
              "    <tr>\n",
              "      <th>Previous_week_open</th>\n",
              "      <td>1.000000</td>\n",
              "      <td>0.247650</td>\n",
              "      <td>0.937407</td>\n",
              "      <td>0.502503</td>\n",
              "    </tr>\n",
              "    <tr>\n",
              "      <th>Previous_week_high</th>\n",
              "      <td>0.247650</td>\n",
              "      <td>1.000000</td>\n",
              "      <td>0.288717</td>\n",
              "      <td>0.707872</td>\n",
              "    </tr>\n",
              "    <tr>\n",
              "      <th>Previous_week_low</th>\n",
              "      <td>0.937407</td>\n",
              "      <td>0.288717</td>\n",
              "      <td>1.000000</td>\n",
              "      <td>0.575087</td>\n",
              "    </tr>\n",
              "    <tr>\n",
              "      <th>Close</th>\n",
              "      <td>0.502503</td>\n",
              "      <td>0.707872</td>\n",
              "      <td>0.575087</td>\n",
              "      <td>1.000000</td>\n",
              "    </tr>\n",
              "  </tbody>\n",
              "</table>\n",
              "</div>\n",
              "      <button class=\"colab-df-convert\" onclick=\"convertToInteractive('df-c1a7ec86-8980-42fb-8f8f-05f0c5965d44')\"\n",
              "              title=\"Convert this dataframe to an interactive table.\"\n",
              "              style=\"display:none;\">\n",
              "        \n",
              "  <svg xmlns=\"http://www.w3.org/2000/svg\" height=\"24px\"viewBox=\"0 0 24 24\"\n",
              "       width=\"24px\">\n",
              "    <path d=\"M0 0h24v24H0V0z\" fill=\"none\"/>\n",
              "    <path d=\"M18.56 5.44l.94 2.06.94-2.06 2.06-.94-2.06-.94-.94-2.06-.94 2.06-2.06.94zm-11 1L8.5 8.5l.94-2.06 2.06-.94-2.06-.94L8.5 2.5l-.94 2.06-2.06.94zm10 10l.94 2.06.94-2.06 2.06-.94-2.06-.94-.94-2.06-.94 2.06-2.06.94z\"/><path d=\"M17.41 7.96l-1.37-1.37c-.4-.4-.92-.59-1.43-.59-.52 0-1.04.2-1.43.59L10.3 9.45l-7.72 7.72c-.78.78-.78 2.05 0 2.83L4 21.41c.39.39.9.59 1.41.59.51 0 1.02-.2 1.41-.59l7.78-7.78 2.81-2.81c.8-.78.8-2.07 0-2.86zM5.41 20L4 18.59l7.72-7.72 1.47 1.35L5.41 20z\"/>\n",
              "  </svg>\n",
              "      </button>\n",
              "      \n",
              "  <style>\n",
              "    .colab-df-container {\n",
              "      display:flex;\n",
              "      flex-wrap:wrap;\n",
              "      gap: 12px;\n",
              "    }\n",
              "\n",
              "    .colab-df-convert {\n",
              "      background-color: #E8F0FE;\n",
              "      border: none;\n",
              "      border-radius: 50%;\n",
              "      cursor: pointer;\n",
              "      display: none;\n",
              "      fill: #1967D2;\n",
              "      height: 32px;\n",
              "      padding: 0 0 0 0;\n",
              "      width: 32px;\n",
              "    }\n",
              "\n",
              "    .colab-df-convert:hover {\n",
              "      background-color: #E2EBFA;\n",
              "      box-shadow: 0px 1px 2px rgba(60, 64, 67, 0.3), 0px 1px 3px 1px rgba(60, 64, 67, 0.15);\n",
              "      fill: #174EA6;\n",
              "    }\n",
              "\n",
              "    [theme=dark] .colab-df-convert {\n",
              "      background-color: #3B4455;\n",
              "      fill: #D2E3FC;\n",
              "    }\n",
              "\n",
              "    [theme=dark] .colab-df-convert:hover {\n",
              "      background-color: #434B5C;\n",
              "      box-shadow: 0px 1px 3px 1px rgba(0, 0, 0, 0.15);\n",
              "      filter: drop-shadow(0px 1px 2px rgba(0, 0, 0, 0.3));\n",
              "      fill: #FFFFFF;\n",
              "    }\n",
              "  </style>\n",
              "\n",
              "      <script>\n",
              "        const buttonEl =\n",
              "          document.querySelector('#df-c1a7ec86-8980-42fb-8f8f-05f0c5965d44 button.colab-df-convert');\n",
              "        buttonEl.style.display =\n",
              "          google.colab.kernel.accessAllowed ? 'block' : 'none';\n",
              "\n",
              "        async function convertToInteractive(key) {\n",
              "          const element = document.querySelector('#df-c1a7ec86-8980-42fb-8f8f-05f0c5965d44');\n",
              "          const dataTable =\n",
              "            await google.colab.kernel.invokeFunction('convertToInteractive',\n",
              "                                                     [key], {});\n",
              "          if (!dataTable) return;\n",
              "\n",
              "          const docLinkHtml = 'Like what you see? Visit the ' +\n",
              "            '<a target=\"_blank\" href=https://colab.research.google.com/notebooks/data_table.ipynb>data table notebook</a>'\n",
              "            + ' to learn more about interactive tables.';\n",
              "          element.innerHTML = '';\n",
              "          dataTable['output_type'] = 'display_data';\n",
              "          await google.colab.output.renderOutput(dataTable, element);\n",
              "          const docLink = document.createElement('div');\n",
              "          docLink.innerHTML = docLinkHtml;\n",
              "          element.appendChild(docLink);\n",
              "        }\n",
              "      </script>\n",
              "    </div>\n",
              "  </div>\n",
              "  "
            ]
          },
          "metadata": {},
          "execution_count": 30
        }
      ]
    },
    {
      "cell_type": "code",
      "source": [
        "data2.plot(x='Previous_week_open',y='Close',style='o')\n",
        "plt.title('Previous_week_open vs Close')\n",
        "plt.xlabel('Previous_week_open')\n",
        "plt.ylabel('Close')\n",
        "plt.show()"
      ],
      "metadata": {
        "colab": {
          "base_uri": "https://localhost:8080/",
          "height": 296
        },
        "id": "K7p4PagoEe5u",
        "outputId": "9a6bc948-3d0a-4927-9673-692fbb0073e1"
      },
      "execution_count": 31,
      "outputs": [
        {
          "output_type": "display_data",
          "data": {
            "text/plain": [
              "<Figure size 432x288 with 1 Axes>"
            ],
            "image/png": "[encoded data removed]"
          },
          "metadata": {
            "needs_background": "light"
          }
        }
      ]
    },
    {
      "cell_type": "code",
      "source": [
        "data2.plot(x='Previous_week_high',y='Close',style='o')\n",
        "plt.title('Previous_week_high vs Close')\n",
        "plt.xlabel('Previous_week_high')\n",
        "plt.ylabel('Close')\n",
        "plt.show()"
      ],
      "metadata": {
        "colab": {
          "base_uri": "https://localhost:8080/",
          "height": 296
        },
        "id": "7pd6bIEZEub3",
        "outputId": "df4ef26f-d5df-42aa-c42e-49a7e093f6f4"
      },
      "execution_count": 32,
      "outputs": [
        {
          "output_type": "display_data",
          "data": {
            "text/plain": [
              "<Figure size 432x288 with 1 Axes>"
            ],
            "image/png": "[encoded data removed]"
          },
          "metadata": {
            "needs_background": "light"
          }
        }
      ]
    },
    {
      "cell_type": "code",
      "source": [
        "data2.plot(x='Previous_week_low',y='Close',style='o')\n",
        "plt.title('Previous_week_low vs Close')\n",
        "plt.xlabel('Previous_week_low')\n",
        "plt.ylabel('Close')\n",
        "plt.show()"
      ],
      "metadata": {
        "colab": {
          "base_uri": "https://localhost:8080/",
          "height": 296
        },
        "id": "A-PaSmq_Ezv0",
        "outputId": "08c23305-d133-4e1c-a890-c3ea47d68a53"
      },
      "execution_count": 33,
      "outputs": [
        {
          "output_type": "display_data",
          "data": {
            "text/plain": [
              "<Figure size 432x288 with 1 Axes>"
            ],
            "image/png": "[encoded data removed]"
          },
          "metadata": {
            "needs_background": "light"
          }
        }
      ]
    },
    {
      "cell_type": "code",
      "source": [
        "#Preparing the Data\n",
        "x2=data2[['Previous_week_open', 'Previous_week_high',\n",
        "       'Previous_week_low']].values\n",
        "y2=data2['Close'].values"
      ],
      "metadata": {
        "id": "LMsq0GfuSP3Q"
      },
      "execution_count": 34,
      "outputs": []
    },
    {
      "cell_type": "code",
      "source": [
        "#Splitting the Data\n",
        "x2_train,x2_test,y2_train,y2_test=train_test_split(x2,y2,test_size=0.25)"
      ],
      "metadata": {
        "id": "ppoF4oYmSdNJ"
      },
      "execution_count": 35,
      "outputs": []
    },
    {
      "cell_type": "code",
      "source": [
        "#Model Training\n",
        "regressor=LinearRegression()\n",
        "regressor.fit(x2_train,y2_train)"
      ],
      "metadata": {
        "colab": {
          "base_uri": "https://localhost:8080/"
        },
        "id": "wUR3MklzSst9",
        "outputId": "11aca367-efe4-425f-db1d-bf09408fa144"
      },
      "execution_count": 36,
      "outputs": [
        {
          "output_type": "execute_result",
          "data": {
            "text/plain": [
              "LinearRegression()"
            ]
          },
          "metadata": {},
          "execution_count": 36
        }
      ]
    },
    {
      "cell_type": "code",
      "source": [
        "#Prediction of test data\n",
        "y2_pred=regressor.predict(x2_test)\n",
        "y2_pred"
      ],
      "metadata": {
        "id": "okhff9z0SwPB",
        "colab": {
          "base_uri": "https://localhost:8080/"
        },
        "outputId": "f676b576-a735-45b8-8191-f3c9b75aab63"
      },
      "execution_count": 37,
      "outputs": [
        {
          "output_type": "execute_result",
          "data": {
            "text/plain": [
              "array([ 5.87230619,  7.3553013 , 10.7486959 ,  5.25398194,  8.2036448 ])"
            ]
          },
          "metadata": {},
          "execution_count": 37
        }
      ]
    },
    {
      "cell_type": "code",
      "source": [
        "#Actual Value and predicted Value for test data\n",
        "df2=pd.DataFrame({'Actual':y2_test,'Predicted':y2_pred})\n",
        "df2"
      ],
      "metadata": {
        "colab": {
          "base_uri": "https://localhost:8080/",
          "height": 206
        },
        "id": "-SPqS62xS2pI",
        "outputId": "6cd4979f-56ed-4060-942d-fc1c5d470b31"
      },
      "execution_count": 38,
      "outputs": [
        {
          "output_type": "execute_result",
          "data": {
            "text/plain": [
              "      Actual  Predicted\n",
              "0   4.146917   5.872306\n",
              "1   3.910886   7.355301\n",
              "2  12.446993  10.748696\n",
              "3   4.702744   5.253982\n",
              "4   6.236197   8.203645"
            ],
            "text/html": [
              "\n",
              "  <div id=\"df-4d86a8d8-c3dc-4191-930a-b12d0f90a360\">\n",
              "    <div class=\"colab-df-container\">\n",
              "      <div>\n",
              "<style scoped>\n",
              "    .dataframe tbody tr th:only-of-type {\n",
              "        vertical-align: middle;\n",
              "    }\n",
              "\n",
              "    .dataframe tbody tr th {\n",
              "        vertical-align: top;\n",
              "    }\n",
              "\n",
              "    .dataframe thead th {\n",
              "        text-align: right;\n",
              "    }\n",
              "</style>\n",
              "<table border=\"1\" class=\"dataframe\">\n",
              "  <thead>\n",
              "    <tr style=\"text-align: right;\">\n",
              "      <th></th>\n",
              "      <th>Actual</th>\n",
              "      <th>Predicted</th>\n",
              "    </tr>\n",
              "  </thead>\n",
              "  <tbody>\n",
              "    <tr>\n",
              "      <th>0</th>\n",
              "      <td>4.146917</td>\n",
              "      <td>5.872306</td>\n",
              "    </tr>\n",
              "    <tr>\n",
              "      <th>1</th>\n",
              "      <td>3.910886</td>\n",
              "      <td>7.355301</td>\n",
              "    </tr>\n",
              "    <tr>\n",
              "      <th>2</th>\n",
              "      <td>12.446993</td>\n",
              "      <td>10.748696</td>\n",
              "    </tr>\n",
              "    <tr>\n",
              "      <th>3</th>\n",
              "      <td>4.702744</td>\n",
              "      <td>5.253982</td>\n",
              "    </tr>\n",
              "    <tr>\n",
              "      <th>4</th>\n",
              "      <td>6.236197</td>\n",
              "      <td>8.203645</td>\n",
              "    </tr>\n",
              "  </tbody>\n",
              "</table>\n",
              "</div>\n",
              "      <button class=\"colab-df-convert\" onclick=\"convertToInteractive('df-4d86a8d8-c3dc-4191-930a-b12d0f90a360')\"\n",
              "              title=\"Convert this dataframe to an interactive table.\"\n",
              "              style=\"display:none;\">\n",
              "        \n",
              "  <svg xmlns=\"http://www.w3.org/2000/svg\" height=\"24px\"viewBox=\"0 0 24 24\"\n",
              "       width=\"24px\">\n",
              "    <path d=\"M0 0h24v24H0V0z\" fill=\"none\"/>\n",
              "    <path d=\"M18.56 5.44l.94 2.06.94-2.06 2.06-.94-2.06-.94-.94-2.06-.94 2.06-2.06.94zm-11 1L8.5 8.5l.94-2.06 2.06-.94-2.06-.94L8.5 2.5l-.94 2.06-2.06.94zm10 10l.94 2.06.94-2.06 2.06-.94-2.06-.94-.94-2.06-.94 2.06-2.06.94z\"/><path d=\"M17.41 7.96l-1.37-1.37c-.4-.4-.92-.59-1.43-.59-.52 0-1.04.2-1.43.59L10.3 9.45l-7.72 7.72c-.78.78-.78 2.05 0 2.83L4 21.41c.39.39.9.59 1.41.59.51 0 1.02-.2 1.41-.59l7.78-7.78 2.81-2.81c.8-.78.8-2.07 0-2.86zM5.41 20L4 18.59l7.72-7.72 1.47 1.35L5.41 20z\"/>\n",
              "  </svg>\n",
              "      </button>\n",
              "      \n",
              "  <style>\n",
              "    .colab-df-container {\n",
              "      display:flex;\n",
              "      flex-wrap:wrap;\n",
              "      gap: 12px;\n",
              "    }\n",
              "\n",
              "    .colab-df-convert {\n",
              "      background-color: #E8F0FE;\n",
              "      border: none;\n",
              "      border-radius: 50%;\n",
              "      cursor: pointer;\n",
              "      display: none;\n",
              "      fill: #1967D2;\n",
              "      height: 32px;\n",
              "      padding: 0 0 0 0;\n",
              "      width: 32px;\n",
              "    }\n",
              "\n",
              "    .colab-df-convert:hover {\n",
              "      background-color: #E2EBFA;\n",
              "      box-shadow: 0px 1px 2px rgba(60, 64, 67, 0.3), 0px 1px 3px 1px rgba(60, 64, 67, 0.15);\n",
              "      fill: #174EA6;\n",
              "    }\n",
              "\n",
              "    [theme=dark] .colab-df-convert {\n",
              "      background-color: #3B4455;\n",
              "      fill: #D2E3FC;\n",
              "    }\n",
              "\n",
              "    [theme=dark] .colab-df-convert:hover {\n",
              "      background-color: #434B5C;\n",
              "      box-shadow: 0px 1px 3px 1px rgba(0, 0, 0, 0.15);\n",
              "      filter: drop-shadow(0px 1px 2px rgba(0, 0, 0, 0.3));\n",
              "      fill: #FFFFFF;\n",
              "    }\n",
              "  </style>\n",
              "\n",
              "      <script>\n",
              "        const buttonEl =\n",
              "          document.querySelector('#df-4d86a8d8-c3dc-4191-930a-b12d0f90a360 button.colab-df-convert');\n",
              "        buttonEl.style.display =\n",
              "          google.colab.kernel.accessAllowed ? 'block' : 'none';\n",
              "\n",
              "        async function convertToInteractive(key) {\n",
              "          const element = document.querySelector('#df-4d86a8d8-c3dc-4191-930a-b12d0f90a360');\n",
              "          const dataTable =\n",
              "            await google.colab.kernel.invokeFunction('convertToInteractive',\n",
              "                                                     [key], {});\n",
              "          if (!dataTable) return;\n",
              "\n",
              "          const docLinkHtml = 'Like what you see? Visit the ' +\n",
              "            '<a target=\"_blank\" href=https://colab.research.google.com/notebooks/data_table.ipynb>data table notebook</a>'\n",
              "            + ' to learn more about interactive tables.';\n",
              "          element.innerHTML = '';\n",
              "          dataTable['output_type'] = 'display_data';\n",
              "          await google.colab.output.renderOutput(dataTable, element);\n",
              "          const docLink = document.createElement('div');\n",
              "          docLink.innerHTML = docLinkHtml;\n",
              "          element.appendChild(docLink);\n",
              "        }\n",
              "      </script>\n",
              "    </div>\n",
              "  </div>\n",
              "  "
            ]
          },
          "metadata": {},
          "execution_count": 38
        }
      ]
    },
    {
      "cell_type": "code",
      "source": [
        "#Evaluation Metrics\n",
        "print(\"R2 Score : \",metrics.r2_score(y2_test,y2_pred))"
      ],
      "metadata": {
        "colab": {
          "base_uri": "https://localhost:8080/"
        },
        "id": "rLuofmjkS-GI",
        "outputId": "365d3e27-ead6-4f5e-b9f3-93c160ea64d9"
      },
      "execution_count": 39,
      "outputs": [
        {
          "output_type": "stream",
          "name": "stdout",
          "text": [
            "R2 Score :  0.5679115739258449\n"
          ]
        }
      ]
    },
    {
      "cell_type": "code",
      "source": [
        "#Coefficients of each feature \n",
        "m1=regressor.coef_[0]\n",
        "m2=regressor.coef_[1]\n",
        "m3=regressor.coef_[2]\n",
        "print(\"Coefficient of Previous_week_open : \",m1)\n",
        "print(\"Coefficient of Previous_week_high : \",m2)\n",
        "print(\"Coefficient of Previous_week_low : \",m3)"
      ],
      "metadata": {
        "colab": {
          "base_uri": "https://localhost:8080/"
        },
        "id": "HqqhJs5LdrwE",
        "outputId": "83e2f669-19d4-4f62-c74d-57205ecaddb7"
      },
      "execution_count": 40,
      "outputs": [
        {
          "output_type": "stream",
          "name": "stdout",
          "text": [
            "Coefficient of Previous_week_open :  -0.1750032102720744\n",
            "Coefficient of Previous_week_high :  0.26024986930421334\n",
            "Coefficient of Previous_week_low :  0.5989149438072633\n"
          ]
        }
      ]
    },
    {
      "cell_type": "code",
      "source": [
        "#Intercept value\n",
        "regressor.intercept_ "
      ],
      "metadata": {
        "colab": {
          "base_uri": "https://localhost:8080/"
        },
        "id": "LaKlVjwUvkO9",
        "outputId": "3671e33a-9e2a-4d9f-eaf7-d25e9424c426"
      },
      "execution_count": 41,
      "outputs": [
        {
          "output_type": "execute_result",
          "data": {
            "text/plain": [
              "2.9234998087987183"
            ]
          },
          "metadata": {},
          "execution_count": 41
        }
      ]
    },
    {
      "cell_type": "code",
      "source": [
        "#Tommorow's prediction\n",
        "u = float(input(\"Enter Today's Open value : \"))\n",
        "v = float(input(\"Enter Today's High Value : \"))\n",
        "w = float(input(\"Enter Today's Low Value : \"))\n",
        "c=regressor.intercept_ \n",
        "\n",
        "y = m1*u + m2*v + m3*w  + c\n",
        "print(\"Tommorow's prediction is : \",y)\n"
      ],
      "metadata": {
        "colab": {
          "base_uri": "https://localhost:8080/"
        },
        "id": "yocAHvzcv-_g",
        "outputId": "03f2d017-c2a5-486e-b2cb-77e26b078b8a"
      },
      "execution_count": 42,
      "outputs": [
        {
          "output_type": "stream",
          "name": "stdout",
          "text": [
            "Enter Today's Open value : 16.81995\n",
            "Enter Today's High Value : 26.91391\n",
            "Enter Today's Low Value : 15.69183\n",
            "Tommorow's prediction is :  16.38236760483143\n"
          ]
        }
      ]
    }
  ]
}